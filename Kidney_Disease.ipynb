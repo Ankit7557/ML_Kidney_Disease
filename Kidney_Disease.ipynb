{
  "nbformat": 4,
  "nbformat_minor": 0,
  "metadata": {
    "colab": {
      "name": "Kidney_Disease.ipynb",
      "provenance": [],
      "toc_visible": true,
      "mount_file_id": "1ap_Tfwt8FyjSTTj1XN_BvvP-FXsImb96",
      "authorship_tag": "ABX9TyNAhi8bLgVJOsO2LMfe/CNt",
      "include_colab_link": true
    },
    "kernelspec": {
      "name": "python3",
      "display_name": "Python 3"
    },
    "language_info": {
      "name": "python"
    }
  },
  "cells": [
    {
      "cell_type": "markdown",
      "metadata": {
        "id": "view-in-github",
        "colab_type": "text"
      },
      "source": [
        "<a href=\"https://colab.research.google.com/github/Ankit7557/ML_Kidney_Disease/blob/main/Kidney_Disease.ipynb\" target=\"_parent\"><img src=\"https://colab.research.google.com/assets/colab-badge.svg\" alt=\"Open In Colab\"/></a>"
      ]
    },
    {
      "cell_type": "code",
      "metadata": {
        "id": "_q62Qyz_9s1R"
      },
      "source": [
        ""
      ],
      "execution_count": null,
      "outputs": []
    }
  ]
}